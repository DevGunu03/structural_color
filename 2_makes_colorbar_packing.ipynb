{
 "cells": [
  {
   "cell_type": "code",
   "execution_count": 1,
   "id": "1cdfc111-7853-4e60-ac49-cfbb7632b4f2",
   "metadata": {},
   "outputs": [],
   "source": [
    "import numpy as np\n",
    "import matplotlib.pyplot as plt\n",
    "import colour  # pip install colour-science\n",
    "import os\n",
    "from tkinter import Tk, filedialog"
   ]
  },
  {
   "cell_type": "code",
   "execution_count": 7,
   "id": "a2ce9216-d4b9-44fb-a42c-a0504c607e07",
   "metadata": {},
   "outputs": [
    {
     "name": "stdin",
     "output_type": "stream",
     "text": [
      "Enter the packign density (from 0 to 100, the step size):  1\n"
     ]
    },
    {
     "data": {
      "image/png": "[encoded data removed]",
      "text/plain": [
       "<Figure size 800x120 with 1 Axes>"
      ]
     },
     "metadata": {},
     "output_type": "display_data"
    }
   ],
   "source": [
    "# --- Step 1: Ask for folder and max thickness ---\n",
    "Tk().withdraw()  # Hide the root window\n",
    "folder = filedialog.askdirectory(title=\"Select Folder with Reflectance Files\")\n",
    "packing = int(input(\"Enter the packign density (from 0 to 100, the step size): \"))\n",
    "\n",
    "# --- Step 2: Setup color science definitions ---\n",
    "spectral_shape = colour.SpectralShape(360, 830, 1)\n",
    "cmfs = colour.MSDS_CMFS['CIE 1931 2 Degree Standard Observer'].copy().align(spectral_shape)\n",
    "illuminant = colour.SDS_ILLUMINANTS['D65'].copy().align(spectral_shape)\n",
    "\n",
    "# --- Step 3: Read reflectance files and predict sRGB ---\n",
    "colors = []\n",
    "thickness_list = []\n",
    "\n",
    "for t in np.arange(0, 100 + packing, packing):\n",
    "    filename = f\"PS_1500nm{t}.txt\"\n",
    "    filepath = os.path.join(folder, filename)\n",
    "    \n",
    "    if not os.path.exists(filepath):\n",
    "        continue\n",
    "\n",
    "    wavelengths, reflectance = np.loadtxt(filepath, delimiter=\",\", unpack=True)\n",
    "    sd = colour.SpectralDistribution(dict(zip(wavelengths, reflectance)), name=f\"{t}nm\").align(spectral_shape)\n",
    "    xyz = colour.sd_to_XYZ(sd, cmfs, illuminant)\n",
    "    rgb = np.clip(colour.XYZ_to_sRGB(xyz / 100), 0, 1)\n",
    "\n",
    "    colors.append(rgb)\n",
    "    thickness_list.append(t)\n",
    "\n",
    "# --- Step 4: Plot the color bar ---\n",
    "fig, ax = plt.subplots(figsize=(8, 1.2))\n",
    "for i in range(len(colors)):\n",
    "    ax.add_patch(plt.Rectangle((i, 0), 1, 1, color=colors[i]))\n",
    "\n",
    "ax.set_xlim(0, len(colors))\n",
    "ax.set_ylim(0, 1)\n",
    "\n",
    "# --- Step 5: Custom ticks at intervals of 50 nm ---\n",
    "tick_packing = np.arange(0, packing + 100, 5)\n",
    "tick_positions = []\n",
    "for tick in tick_packing:\n",
    "    if tick in thickness_list:\n",
    "        tick_positions.append(thickness_list.index(tick))  # center of color block\n",
    "\n",
    "ax.set_xticks(tick_positions)\n",
    "ax.set_xticklabels([f\"{t}\" for t in tick_packing], fontsize=9)\n",
    "\n",
    "# Clean look\n",
    "ax.set_yticks([])\n",
    "ax.spines['top'].set_visible(False)\n",
    "ax.spines['right'].set_visible(False)\n",
    "ax.spines['left'].set_visible(False)\n",
    "ax.spines['bottom'].set_linewidth(2)\n",
    "\n",
    "plt.tight_layout()\n",
    "#plt.title(\"MoO₃ Thickness Color Bar\", fontsize=11)\n",
    "plt.title(\"PS sparsity Color Bar\", fontsize=11)\n",
    "plt.savefig(\"PS_colorbar_packing.png\", dpi=300)\n",
    "plt.show()"
   ]
  },
  {
   "cell_type": "code",
   "execution_count": null,
   "id": "82cc4f4f-ca37-4bcf-aea4-1c7fa6a55774",
   "metadata": {},
   "outputs": [],
   "source": []
  }
 ],
 "metadata": {
  "kernelspec": {
   "display_name": "Python 3 (ipykernel)",
   "language": "python",
   "name": "python3"
  },
  "language_info": {
   "codemirror_mode": {
    "name": "ipython",
    "version": 3
   },
   "file_extension": ".py",
   "mimetype": "text/x-python",
   "name": "python",
   "nbconvert_exporter": "python",
   "pygments_lexer": "ipython3",
   "version": "3.12.7"
  }
 },
 "nbformat": 4,
 "nbformat_minor": 5
}
