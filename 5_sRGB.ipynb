{
 "cells": [
  {
   "cell_type": "code",
   "execution_count": 1,
   "id": "6ff63c93-cf2b-4935-9e34-1dd9858e5563",
   "metadata": {},
   "outputs": [],
   "source": [
    "import os\n",
    "import re\n",
    "import numpy as np\n",
    "import matplotlib.pyplot as plt\n",
    "import colour"
   ]
  },
  {
   "cell_type": "code",
   "execution_count": 6,
   "id": "039c570b-8a21-4831-8d73-5d2aaa492413",
   "metadata": {},
   "outputs": [
    {
     "name": "stdout",
     "output_type": "stream",
     "text": [
      "20nm -> XYZ: [ 15.63391295  16.27497422  31.6241443 ], sRGB: [ 0.34712092  0.44539356  0.59242291]\n"
     ]
    },
    {
     "data": {
      "image/png": "[encoded data removed]",
      "text/plain": [
       "<Figure size 200x200 with 1 Axes>"
      ]
     },
     "metadata": {},
     "output_type": "display_data"
    }
   ],
   "source": [
    "# === CONFIGURATION ===\n",
    "folder_path = \"C:/Users/kunal/Downloads/PS-packing-1step/\"  # Change this path as needed\n",
    "output_file = os.path.join(folder_path, \"sRGB_D65_300.txt\")  # Updated output file name\n",
    "spectral_shape = colour.SpectralShape(360, 830, 1)\n",
    "\n",
    "# === PREPARE COLOR SCIENCE ELEMENTS ===\n",
    "illuminant = colour.SDS_ILLUMINANTS['D65'].copy().align(spectral_shape)\n",
    "cmfs = colour.MSDS_CMFS['CIE 1931 2 Degree Standard Observer'].copy().align(spectral_shape)\n",
    "illuminant_XYZ = colour.sd_to_XYZ(illuminant, cmfs, illuminant)\n",
    "\n",
    "# === INIT OUTPUT FILE ===\n",
    "with open(output_file, \"w\") as f:\n",
    "    f.write(\"Thickness (nm): R, G, B (sRGB in 0-1 range)\\n\")\n",
    "\n",
    "# === GATHER MATCHING FILES ===\n",
    "file_list = os.listdir(folder_path)\n",
    "pattern = re.compile(r\"PS_300nm(\\d+)\\.txt\")\n",
    "\n",
    "matched_files = []\n",
    "for filename in file_list:\n",
    "    match = pattern.match(filename)\n",
    "    if match:\n",
    "        thickness = int(match.group(1))\n",
    "        matched_files.append((thickness, filename))\n",
    "\n",
    "# === SORT BY THICKNESS ===\n",
    "matched_files.sort()\n",
    "\n",
    "# === PROCESS EACH FILE ===\n",
    "for thickness, filename in matched_files:\n",
    "    filepath = os.path.join(folder_path, filename)\n",
    "\n",
    "    try:\n",
    "        wavelengths, reflectance = np.loadtxt(filepath, delimiter=\",\", unpack=True)\n",
    "    except:\n",
    "        wavelengths, reflectance = np.loadtxt(filepath, unpack=True)  # fallback\n",
    "\n",
    "    sd = colour.SpectralDistribution(dict(zip(wavelengths, reflectance)), name=filename)\n",
    "    sd = sd.copy().align(spectral_shape)\n",
    "\n",
    "    XYZ = colour.sd_to_XYZ(sd, cmfs, illuminant)\n",
    "    rgb = colour.XYZ_to_sRGB(XYZ / 100)  # Normalize XYZ for sRGB\n",
    "    rgb_clipped = np.clip(rgb, 0, 1)\n",
    "\n",
    "    # Append to output file\n",
    "    with open(output_file, \"a\") as f:\n",
    "        f.write(f\"{thickness}nm: {rgb_clipped[0]:.8f}, {rgb_clipped[1]:.8f}, {rgb_clipped[2]:.8f}\\n\")\n",
    "\n",
    "    # Optional preview at specific thickness\n",
    "    if thickness == 20:\n",
    "        print(f\"{thickness}nm -> XYZ: {XYZ}, sRGB: {rgb_clipped}\")\n",
    "        fig, ax = plt.subplots(figsize=(2, 2))\n",
    "        ax.set_facecolor(rgb_clipped)\n",
    "        ax.set_xticks([]); ax.set_yticks([])\n",
    "        plt.title(f\"Approx. Color - {thickness}nm\")\n",
    "        plt.show()"
   ]
  },
  {
   "cell_type": "code",
   "execution_count": null,
   "id": "5a3c549e-150d-4e56-b82b-4a69388ca2be",
   "metadata": {},
   "outputs": [],
   "source": []
  }
 ],
 "metadata": {
  "kernelspec": {
   "display_name": "Python 3 (ipykernel)",
   "language": "python",
   "name": "python3"
  },
  "language_info": {
   "codemirror_mode": {
    "name": "ipython",
    "version": 3
   },
   "file_extension": ".py",
   "mimetype": "text/x-python",
   "name": "python",
   "nbconvert_exporter": "python",
   "pygments_lexer": "ipython3",
   "version": "3.12.7"
  }
 },
 "nbformat": 4,
 "nbformat_minor": 5
}
